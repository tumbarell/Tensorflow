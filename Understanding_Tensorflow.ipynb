{
  "nbformat": 4,
  "nbformat_minor": 0,
  "metadata": {
    "colab": {
      "provenance": [],
      "authorship_tag": "ABX9TyMlKQs1KCcgBtJ9b78u0c5E"
    },
    "kernelspec": {
      "name": "python3",
      "display_name": "Python 3"
    },
    "language_info": {
      "name": "python"
    }
  },
  "cells": [
    {
      "cell_type": "markdown",
      "source": [
        "TensorFlow is an open source, distributed numerical computation framework released by Google that is mainly intended to alleviate the painful details of implementing a neural network.\n",
        "\n",
        "Below some exercises taken from Chapter 2 of the book **Natural Language Processing\n",
        "with TensorFlow** *Second Edition*"
      ],
      "metadata": {
        "id": "YFAURJkHmUmZ"
      }
    },
    {
      "cell_type": "code",
      "source": [
        "import tensorflow as tf\n",
        "import numpy as np\n",
        "import os\n",
        "print(tf.__version__)"
      ],
      "metadata": {
        "colab": {
          "base_uri": "https://localhost:8080/"
        },
        "id": "Q_EH9ekkncx1",
        "outputId": "3f38baa3-cfc0-4847-d535-fe402cb4a85d"
      },
      "execution_count": 2,
      "outputs": [
        {
          "output_type": "stream",
          "name": "stdout",
          "text": [
            "2.12.0\n"
          ]
        }
      ]
    },
    {
      "cell_type": "code",
      "source": [
        "from google.colab import drive\n",
        "drive.mount('/content/drive')\n",
        "os.getcwd()"
      ],
      "metadata": {
        "colab": {
          "base_uri": "https://localhost:8080/",
          "height": 53
        },
        "id": "SAdZtfdgwvTj",
        "outputId": "5d4a6fdf-4f48-4812-b175-89e514e21819"
      },
      "execution_count": 3,
      "outputs": [
        {
          "output_type": "stream",
          "name": "stdout",
          "text": [
            "Mounted at /content/drive\n"
          ]
        },
        {
          "output_type": "execute_result",
          "data": {
            "text/plain": [
              "'/content'"
            ],
            "application/vnd.google.colaboratory.intrinsic+json": {
              "type": "string"
            }
          },
          "metadata": {},
          "execution_count": 3
        }
      ]
    },
    {
      "cell_type": "code",
      "source": [
        "#Implementing the sigmoid function\n",
        "@tf.function\n",
        "def layer(x, W, b):\n",
        "  # Building the graph\n",
        "  h = tf.nn.sigmoid(tf.matmul(x,W) + b) # Operation to perform\n",
        "  return h"
      ],
      "metadata": {
        "id": "eVU8Yw0go_Pg"
      },
      "execution_count": null,
      "outputs": []
    },
    {
      "cell_type": "markdown",
      "source": [
        "A Python decorator provides a clean way\n",
        "to call another function whenever you call the decorated function. In other words, every time the layer() function is called, tf.function() is called.\n",
        "\n",
        "When the layer() function is passing through tf.function(), TensorFlow will trace the content (in other words, the operations and data) in the function and build a computational graph\n",
        "automatically.\n",
        "\n",
        "tf.function() is a multi-stage process, where it first builds the dataflow graph and then executes it. Additionally, since TensorFlow traces each line in the function, if something\n",
        "goes wrong, TensorFlow can point to the exact line that is causing the issue."
      ],
      "metadata": {
        "id": "HtXeIz3kuv4_"
      }
    },
    {
      "cell_type": "code",
      "source": [
        "x = np.array([[0, 0.1, 0.2, 0.3, 0.4, 0.5, 0.6, 0.7, 0.8, 0.9]], dtype=np.float32)\n",
        "# Variable\n",
        "init_w = tf.initializers.RandomUniform(minval=-0.1, maxval=0.1)(shape=[10,5])\n",
        "W = tf.Variable(init_w, dtype=tf.float32, name='W')\n",
        "# Variable\n",
        "init_b = tf.initializers.RandomUniform()(shape=[5])\n",
        "b = tf.Variable(init_b, dtype=tf.float32, name='b')\n",
        "h = layer(x,W,b)\n",
        "print(f\"h = {h.numpy()}\")\n",
        "\n",
        "print(f\"h = {h}\")\n",
        "print(f\"h is of type {type(h)}\")"
      ],
      "metadata": {
        "id": "qCmqB4rYu6Mj",
        "colab": {
          "base_uri": "https://localhost:8080/"
        },
        "outputId": "246984f3-91d3-40ec-acbe-54edb20f63fe"
      },
      "execution_count": null,
      "outputs": [
        {
          "output_type": "stream",
          "name": "stdout",
          "text": [
            "h = [[0.49629167 0.50309455 0.4909432  0.47080386 0.50476456]]\n",
            "h = [[0.49629167 0.50309455 0.4909432  0.47080386 0.50476456]]\n",
            "h is of type <class 'tensorflow.python.framework.ops.EagerTensor'>\n"
          ]
        }
      ]
    },
    {
      "cell_type": "markdown",
      "source": [
        "TensorFlow executes its operations “eagerly”, or immediately after the\n",
        "layer() function is called. This is a special mode in TensorFlow known as eager execution mode.\n",
        "This was an optional mode for TensorFlow 1, but has been made the default in TensorFlow 2"
      ],
      "metadata": {
        "id": "j6nXHSvYVTUR"
      }
    },
    {
      "cell_type": "markdown",
      "source": [
        "**Defining inputs in TensorFlow**\n",
        "\n",
        "There are three different ways you can feed data to a TensorFlow program:\n",
        "\n",
        "• Feeding data as NumPy arrays\n",
        "\n",
        "    x = np.array([[0, 0.1, 0.2, 0.3, 0.4, 0.5, 0.6, 0.7, 0.8, 0.9]], dtype=np.float32)\n",
        "\n",
        "• Feeding data as TensorFlow tensors\n",
        "\n",
        "    x = tf.constant(value=[[0.1,0.2,0.3,0.4,0.5,0.6,0.7,0.8,0.9,1.]],dtype=tf.float32,name='x')\n",
        "\n",
        "• Using the tf.data API to create an input pipeline"
      ],
      "metadata": {
        "id": "LmSIyTOqW0bR"
      }
    },
    {
      "cell_type": "markdown",
      "source": [
        "\n",
        "**tf.data** API provides convenient functions that can be used to easily load and transform the data, creating pipelines\n",
        "designed for heavy-duty programs that need to process a lot of data, including large datasets that do not fit in memory. Furthermore, it streamlines your data ingestion code with the model training."
      ],
      "metadata": {
        "id": "5QQbHXkwTfZQ"
      }
    },
    {
      "cell_type": "code",
      "source": [
        "filenames = [f\"./iris.data.{i}\" for i in range(1,4)]\n",
        "dataset = tf.data.experimental.CsvDataset(filenames, [tf.float32,tf.float32, tf.float32, tf.float32, tf.string])\n",
        "#The dataset reader takes in a list of filenames and another list that specifies the data types of each column in the dataset.\n",
        "\n",
        "dataset = dataset.map(lambda x1,x2,x3,x4,y: (tf.stack([x1,x2,x3,x4]), y))\n",
        "#We are using lambda functions to separate out x1,x2,x3,x4 into one dataset and y to another\n",
        "#dataset, along with the dataset.map() function."
      ],
      "metadata": {
        "id": "BahzBqTySRwU"
      },
      "execution_count": null,
      "outputs": []
    },
    {
      "cell_type": "code",
      "source": [
        "dataset = dataset.filter(lambda x,y: tf.reduce_min(x)>0)\n",
        "#for next_element in dataset: in order to loop the mapped elements in dataset"
      ],
      "metadata": {
        "id": "AUTE_-U0X8Ci"
      },
      "execution_count": null,
      "outputs": []
    },
    {
      "cell_type": "markdown",
      "source": [
        "**Comparison operations**"
      ],
      "metadata": {
        "id": "-T4UYPqEgcjH"
      }
    },
    {
      "cell_type": "code",
      "source": [
        "# Let's assume the following values for x and y\n",
        "# x (2-D tensor) => [[1,2],[3,4]]\n",
        "# y (2-D tensor) => [[4,3],[3,2]]\n",
        "x = tf.constant([[1,2],[3,4]], dtype=tf.int32)\n",
        "y = tf.constant([[4,3],[3,2]], dtype=tf.int32)\n",
        "print(x)\n",
        "print(y)"
      ],
      "metadata": {
        "colab": {
          "base_uri": "https://localhost:8080/"
        },
        "id": "TEujQpvdf-AU",
        "outputId": "87a3a881-b617-444c-ab09-f9b541ed8713"
      },
      "execution_count": null,
      "outputs": [
        {
          "output_type": "stream",
          "name": "stdout",
          "text": [
            "tf.Tensor(\n",
            "[[1 2]\n",
            " [3 4]], shape=(2, 2), dtype=int32)\n",
            "tf.Tensor(\n",
            "[[4 3]\n",
            " [3 2]], shape=(2, 2), dtype=int32)\n"
          ]
        }
      ]
    },
    {
      "cell_type": "code",
      "source": [
        "# Checks if two tensors are equal element-wise and returns a boolean\n",
        "# tensor\n",
        "# x_equal_y => [[False,False],[True,False]]\n",
        "x_equal_y = tf.equal(x, y, name=None)\n",
        "print(x_equal_y)"
      ],
      "metadata": {
        "colab": {
          "base_uri": "https://localhost:8080/"
        },
        "id": "kKRrWxmeg2WW",
        "outputId": "154c3c0a-0775-4b98-de93-f071e270e210"
      },
      "execution_count": null,
      "outputs": [
        {
          "output_type": "stream",
          "name": "stdout",
          "text": [
            "tf.Tensor(\n",
            "[[False False]\n",
            " [ True False]], shape=(2, 2), dtype=bool)\n"
          ]
        }
      ]
    },
    {
      "cell_type": "code",
      "source": [
        "# Checks if x is less than y element-wise and returns a boolean tensor\n",
        "# x_less_y => [[True,True],[False,False]]\n",
        "x_less_y = tf.less(x, y, name=None)\n",
        "print(x_less_y)"
      ],
      "metadata": {
        "colab": {
          "base_uri": "https://localhost:8080/"
        },
        "id": "YvuIwjcYhFVj",
        "outputId": "89ac654c-2a51-4342-efbd-3a6769441a15"
      },
      "execution_count": null,
      "outputs": [
        {
          "output_type": "stream",
          "name": "stdout",
          "text": [
            "tf.Tensor(\n",
            "[[ True  True]\n",
            " [False False]], shape=(2, 2), dtype=bool)\n"
          ]
        }
      ]
    },
    {
      "cell_type": "code",
      "source": [
        "# Checks if x is greater or equal than y element-wise and returns a\n",
        "# boolean tensor\n",
        "# x_great_equal_y => [[False,False],[True,True]]\n",
        "x_great_equal_y = tf.greater_equal(x, y, name=None)\n",
        "print(x_great_equal_y)"
      ],
      "metadata": {
        "colab": {
          "base_uri": "https://localhost:8080/"
        },
        "id": "xPu7BeH7h3-Y",
        "outputId": "622ef8dc-8901-4643-f0b7-9b800cb266cf"
      },
      "execution_count": null,
      "outputs": [
        {
          "output_type": "stream",
          "name": "stdout",
          "text": [
            "tf.Tensor(\n",
            "[[False False]\n",
            " [ True  True]], shape=(2, 2), dtype=bool)\n"
          ]
        }
      ]
    },
    {
      "cell_type": "code",
      "source": [
        "# Selects elements from x and y depending on whether,\n",
        "# the condition is satisfied (select elements from x)\n",
        "# or the condition failed (select elements from y)\n",
        "condition = tf.constant([[True,False],[True,False]],dtype=tf.bool)\n",
        "# x_cond_y => [[1,3],[3,2]]\n",
        "x_cond_y = tf.where(condition, x, y, name=None)\n",
        "print(x_cond_y)"
      ],
      "metadata": {
        "colab": {
          "base_uri": "https://localhost:8080/"
        },
        "id": "LgJMMMeniAZZ",
        "outputId": "6119ad0d-116b-4244-c855-f8d20d13d676"
      },
      "execution_count": null,
      "outputs": [
        {
          "output_type": "stream",
          "name": "stdout",
          "text": [
            "tf.Tensor(\n",
            "[[1 3]\n",
            " [3 2]], shape=(2, 2), dtype=int32)\n"
          ]
        }
      ]
    },
    {
      "cell_type": "markdown",
      "source": [
        "**Keras: The model building API of TensorFlow**\n",
        "\n",
        "Keras was developed as a separate library that provides high-level building blocks to build models conveniently.\n",
        "\n",
        "Keras’s primary focus is model building. For that, Keras provides several different APIs with varying degrees of flexibility and complexity. Choosing the right API for the job will require sound\n",
        "knowledge of the limitations of each API as well as experience.\n",
        "\n",
        "The APIs provided by Keras are:\n",
        "\n",
        "*   **Sequential API** – The most easy-to-use API. You simply stack layers on top of each other to create a model.\n",
        "*   **Functional API** – Provides more flexibility by allowing you to define  custom models that can have multiple input layers/multiple output layers.\n",
        "*   **Sub-classing API** – Allows you to define custom reusable layers/models as Python classes. This is the most flexible API, but it requires strong familiarity with the API and raw TensorFlow operations to use it correctly."
      ],
      "metadata": {
        "id": "LRx6e1WNwyHZ"
      }
    },
    {
      "cell_type": "markdown",
      "source": [
        "**Sequential API**"
      ],
      "metadata": {
        "id": "Ez8mJJxDzLJ0"
      }
    },
    {
      "cell_type": "code",
      "source": [
        "%%time\n",
        "# Simply define your model as a list of layers.\n",
        "# The first element in the list is the closest to the input, whereas the last is the output layer.\n",
        "model = tf.keras.Sequential([\n",
        "            tf.keras.layers.Dense(500, activation='relu', input_dim=784),\n",
        "            tf.keras.layers.Dense(250, activation='relu'),\n",
        "            tf.keras.layers.Dense(10, activation='softmax')\n",
        "                            ])\n",
        "\n",
        "#In the code above, we have three layers. The first layer has 500 output nodes and takes in a\n",
        "#vector of 784 elements as the input.\n",
        "#The second layer is automatically connected to the first one,\n",
        "#whereas the last layer is connected to the second layer.\n",
        "#All of these layers are fully-connected layers, where all input nodes are connected to all output nodes.\n",
        "type(model)"
      ],
      "metadata": {
        "colab": {
          "base_uri": "https://localhost:8080/"
        },
        "id": "EmKiBIrDjIE8",
        "outputId": "007a297c-1349-483b-eace-490882522abf"
      },
      "execution_count": null,
      "outputs": [
        {
          "output_type": "stream",
          "name": "stdout",
          "text": [
            "CPU times: user 58.9 ms, sys: 186 µs, total: 59.1 ms\n",
            "Wall time: 103 ms\n"
          ]
        },
        {
          "output_type": "execute_result",
          "data": {
            "text/plain": [
              "keras.engine.sequential.Sequential"
            ]
          },
          "metadata": {},
          "execution_count": 20
        }
      ]
    },
    {
      "cell_type": "code",
      "source": [
        "model.summary()"
      ],
      "metadata": {
        "colab": {
          "base_uri": "https://localhost:8080/"
        },
        "id": "hxTXhF4z0uOZ",
        "outputId": "348442bd-7a04-49d6-fcd5-82d9414f7122"
      },
      "execution_count": null,
      "outputs": [
        {
          "output_type": "stream",
          "name": "stdout",
          "text": [
            "Model: \"sequential_1\"\n",
            "_________________________________________________________________\n",
            " Layer (type)                Output Shape              Param #   \n",
            "=================================================================\n",
            " dense_3 (Dense)             (None, 500)               392500    \n",
            "                                                                 \n",
            " dense_4 (Dense)             (None, 250)               125250    \n",
            "                                                                 \n",
            " dense_5 (Dense)             (None, 10)                2510      \n",
            "                                                                 \n",
            "=================================================================\n",
            "Total params: 520,260\n",
            "Trainable params: 520,260\n",
            "Non-trainable params: 0\n",
            "_________________________________________________________________\n"
          ]
        }
      ]
    },
    {
      "cell_type": "markdown",
      "source": [
        "#Implementing a neural network using Keras and MNIST"
      ],
      "metadata": {
        "id": "0bAlhXYVvlZb"
      }
    },
    {
      "cell_type": "code",
      "source": [
        "path = os.getcwd()+'/drive/MyDrive/colab_files/'\n",
        "os.makedirs(path+'mnist_data', exist_ok=True)"
      ],
      "metadata": {
        "id": "Ofvcv0IK3xjh"
      },
      "execution_count": 5,
      "outputs": []
    },
    {
      "cell_type": "code",
      "source": [
        "%%time\n",
        "#Downloading the data and storing it as numpy.ndarray objects.\n",
        "(x_train, y_train), (x_test, y_test) = tf.keras.datasets.mnist.load_data(\n",
        "                                          path=os.path.join(path, 'mnist_data', 'mnist.npz')\n",
        "                                                                        )"
      ],
      "metadata": {
        "colab": {
          "base_uri": "https://localhost:8080/"
        },
        "id": "_ToAvVd1xwJv",
        "outputId": "49a795e9-4bc1-4d9a-cbe1-c0592f30eb2d"
      },
      "execution_count": 6,
      "outputs": [
        {
          "output_type": "stream",
          "name": "stdout",
          "text": [
            "Downloading data from https://storage.googleapis.com/tensorflow/tf-keras-datasets/mnist.npz\n",
            "11490434/11490434 [==============================] - 0s 0us/step\n",
            "CPU times: user 456 ms, sys: 83.2 ms, total: 539 ms\n",
            "Wall time: 729 ms\n"
          ]
        }
      ]
    },
    {
      "cell_type": "code",
      "source": [
        "print('x_train shape: ', x_train.shape)\n",
        "print('y_train shape: ', y_train.shape)\n",
        "print('x_test shape: ', x_test.shape)\n",
        "print('y_test shape: ', y_test.shape)"
      ],
      "metadata": {
        "colab": {
          "base_uri": "https://localhost:8080/"
        },
        "id": "kGWgzTn8yaUE",
        "outputId": "fc98fba0-dcd6-4085-a50e-759c2fe68c7b"
      },
      "execution_count": 7,
      "outputs": [
        {
          "output_type": "stream",
          "name": "stdout",
          "text": [
            "x_train shape:  (60000, 28, 28)\n",
            "y_train shape:  (60000,)\n",
            "x_test shape:  (10000, 28, 28)\n",
            "y_test shape:  (10000,)\n"
          ]
        }
      ]
    },
    {
      "cell_type": "code",
      "source": [
        "# Reshaping x_train and x_test tensors so that each image is represented\n",
        "# as a 1D vector\n",
        "x_train = x_train.reshape(x_train.shape[0], -1)\n",
        "x_test = x_test.reshape(x_test.shape[0], -1)\n",
        "\n",
        "print('x_train shape: ', x_train.shape)\n",
        "print('x_test shape: ', x_test.shape)"
      ],
      "metadata": {
        "colab": {
          "base_uri": "https://localhost:8080/"
        },
        "id": "KvxTU7hIzeMu",
        "outputId": "6f3f4c06-1c2a-4309-ed06-a612763f3647"
      },
      "execution_count": 8,
      "outputs": [
        {
          "output_type": "stream",
          "name": "stdout",
          "text": [
            "x_train shape:  (60000, 784)\n",
            "x_test shape:  (10000, 784)\n"
          ]
        }
      ]
    },
    {
      "cell_type": "code",
      "source": [
        "# Standardizing x_train and x_test tensors\n",
        "x_train = (x_train - np.mean(x_train, axis=1, keepdims=True))/np.std(x_train, axis=1, keepdims=True)\n",
        "x_test = (x_test - np.mean(x_test, axis=1, keepdims=True))/np.std(x_test, axis=1, keepdims=True)"
      ],
      "metadata": {
        "id": "wm9QNIxyz1AR"
      },
      "execution_count": 9,
      "outputs": []
    },
    {
      "cell_type": "code",
      "source": [
        "# One hot encoding y_train and y_test\n",
        "num_labels = 10\n",
        "y_onehot_train = np.zeros((y_train.shape[0], num_labels),dtype=np.float32)\n",
        "y_onehot_train[np.arange(y_train.shape[0]), y_train] = 1.0\n",
        "y_onehot_test = np.zeros((y_test.shape[0], num_labels), dtype=np.float32)\n",
        "y_onehot_test[np.arange(y_test.shape[0]), y_test] = 1.0"
      ],
      "metadata": {
        "id": "HH5lZx1z0cAE"
      },
      "execution_count": 11,
      "outputs": []
    },
    {
      "cell_type": "code",
      "source": [
        "#The network is a fully connected neural\n",
        "#network with 3 layers having 500, 250, and 10 nodes, respectively. The first two layers will use\n",
        "#ReLU activation, whereas the last layer uses softmax. To implement this, we are going to use the\n",
        "#the Sequential API.\n",
        "\n",
        "model = tf.keras.Sequential([\n",
        "                            tf.keras.layers.Dense(500, activation='relu'),\n",
        "                            tf.keras.layers.Dense(250, activation='relu'),\n",
        "                            tf.keras.layers.Dense(10, activation='softmax')\n",
        "                            ])\n",
        "\n",
        "#For a fully connected\n",
        "#network, we only need Dense layers that mimic the computations of a hidden layer in a fully\n",
        "#connected network. With the model defined, we need to compile this model with an appropriate\n",
        "#loss function, an optimizer, and, optionally, performance metrics:\n",
        "\n",
        "optimizer = tf.keras.optimizers.RMSprop()\n",
        "loss_fn = tf.keras.losses.CategoricalCrossentropy()\n",
        "model.compile(optimizer=optimizer, loss=loss_fn, metrics=['acc'])"
      ],
      "metadata": {
        "id": "DhvofCCU1D6r"
      },
      "execution_count": 12,
      "outputs": []
    },
    {
      "cell_type": "code",
      "source": [
        "%%time\n",
        "#Training the model\n",
        "\n",
        "batch_size = 100\n",
        "num_epochs = 10\n",
        "\n",
        "train_history = model.fit(\n",
        "                          x=x_train,\n",
        "                          y=y_onehot_train,\n",
        "                          batch_size=batch_size,\n",
        "                          epochs= num_epochs,\n",
        "                          validation_split=0.2\n",
        "                          )"
      ],
      "metadata": {
        "colab": {
          "base_uri": "https://localhost:8080/"
        },
        "id": "gdh5w0n84P0g",
        "outputId": "18dfbabf-d62e-49e6-f7a6-c647dd2e62a9"
      },
      "execution_count": 13,
      "outputs": [
        {
          "output_type": "stream",
          "name": "stdout",
          "text": [
            "Epoch 1/10\n",
            "480/480 [==============================] - 8s 13ms/step - loss: 0.2289 - acc: 0.9293 - val_loss: 0.1402 - val_acc: 0.9576\n",
            "Epoch 2/10\n",
            "480/480 [==============================] - 7s 14ms/step - loss: 0.0872 - acc: 0.9731 - val_loss: 0.1016 - val_acc: 0.9710\n",
            "Epoch 3/10\n",
            "480/480 [==============================] - 5s 11ms/step - loss: 0.0579 - acc: 0.9820 - val_loss: 0.0883 - val_acc: 0.9750\n",
            "Epoch 4/10\n",
            "480/480 [==============================] - 7s 15ms/step - loss: 0.0413 - acc: 0.9867 - val_loss: 0.1153 - val_acc: 0.9722\n",
            "Epoch 5/10\n",
            "480/480 [==============================] - 6s 12ms/step - loss: 0.0306 - acc: 0.9899 - val_loss: 0.1217 - val_acc: 0.9741\n",
            "Epoch 6/10\n",
            "480/480 [==============================] - 7s 14ms/step - loss: 0.0236 - acc: 0.9925 - val_loss: 0.1260 - val_acc: 0.9735\n",
            "Epoch 7/10\n",
            "480/480 [==============================] - 6s 12ms/step - loss: 0.0181 - acc: 0.9942 - val_loss: 0.1170 - val_acc: 0.9792\n",
            "Epoch 8/10\n",
            "480/480 [==============================] - 5s 11ms/step - loss: 0.0149 - acc: 0.9952 - val_loss: 0.1150 - val_acc: 0.9811\n",
            "Epoch 9/10\n",
            "480/480 [==============================] - 7s 15ms/step - loss: 0.0126 - acc: 0.9960 - val_loss: 0.1256 - val_acc: 0.9783\n",
            "Epoch 10/10\n",
            "480/480 [==============================] - 6s 12ms/step - loss: 0.0108 - acc: 0.9967 - val_loss: 0.1329 - val_acc: 0.9773\n",
            "CPU times: user 1min 22s, sys: 3.08 s, total: 1min 25s\n",
            "Wall time: 1min 25s\n"
          ]
        }
      ]
    },
    {
      "cell_type": "code",
      "source": [
        "%%time\n",
        "#testing the model\n",
        "test_res = model.evaluate(\n",
        "                          x=x_test,\n",
        "                          y=y_onehot_test,\n",
        "                          batch_size=batch_size\n",
        "                          )"
      ],
      "metadata": {
        "colab": {
          "base_uri": "https://localhost:8080/"
        },
        "id": "RQNhRhhY5At1",
        "outputId": "5c55f557-5f8a-419f-dafd-d871430e1a4f"
      },
      "execution_count": 14,
      "outputs": [
        {
          "output_type": "stream",
          "name": "stdout",
          "text": [
            "100/100 [==============================] - 1s 9ms/step - loss: 0.1242 - acc: 0.9794\n",
            "CPU times: user 1.04 s, sys: 51.9 ms, total: 1.09 s\n",
            "Wall time: 1.98 s\n"
          ]
        }
      ]
    },
    {
      "cell_type": "code",
      "source": [],
      "metadata": {
        "id": "dfPIYTiP5hT4"
      },
      "execution_count": null,
      "outputs": []
    }
  ]
}